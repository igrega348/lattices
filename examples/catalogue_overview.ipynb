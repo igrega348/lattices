{
 "cells": [
  {
   "cell_type": "code",
   "execution_count": 1,
   "metadata": {},
   "outputs": [],
   "source": [
    "import os\n",
    "import sys\n",
    "if os.path.abspath('..') not in sys.path:\n",
    "    sys.path.insert(0, os.path.abspath('..'))\n",
    "from pathlib import Path\n",
    "from lattices import Catalogue"
   ]
  },
  {
   "cell_type": "markdown",
   "metadata": {},
   "source": [
    "We use a customised format to represent lattice catalogue. \n",
    "\n",
    "The catalogue is a text file which looks like the following:"
   ]
  },
  {
   "cell_type": "code",
   "execution_count": 7,
   "metadata": {},
   "outputs": [
    {
     "name": "stdout",
     "output_type": "stream",
     "text": [
      "----- lattice_transition -----\n",
      "Name: cub_Z06.0_E1_p_0.0_-2440574754159344429\n",
      "\n",
      "Base name: cub_Z06.0_E1\n",
      "Imperfection level: 0.0\n",
      "Imperfection kind: sphere_surf\n",
      "Nodal hash: -2440574754159344429\n",
      "Normalized unit cell parameters (a,b,c,alpha,beta,gamma):\n",
      "1, 1, 1, 90, 90, 90\n",
      "\n",
      "\n",
      "Compliance tensors (Mandel) start (flattened upper triangular)\n",
      "-> at relative density 0.001:\n",
      "3000,-4.1749e-30,1.4936e-13,6.6045e-10,6.7216e-10,6.6931e-10,3000,3.3308e-13,-6.3716e-10,-6.6157e-10,-6.5727e-10,3000,-2.2143e-11,3.6351e-11,7.3195e-10,9.3629e+06,-1.0629e-07,-1.0552e-07,9.3622e+06,-1.5053e-07,9.3345e+06\n",
      "-> at relative density 0.003:\n",
      "1000,-1.1145e-13,-1.3165e-12,-1.3952e-10,-2.3571e-10,9.5711e-10,1000,7.1458e-13,3.805e-11,4.2355e-11,7.0665e-13,1000,-7.2325e-11,-5.1571e-10,5.1333e-09,1.0423e+06,-3.974e-08,3.4728e-07,1.0422e+06,4.7279e-07,1.0391e+06\n",
      "-> at relative density 0.01:\n",
      "300,-1.0184e-13,-4.3103e-14,-1.0258e-11,-1.0983e-11,-2.4061e-12,300,4.1888e-14,9.1125e-12,9.2644e-12,1.1643e-11,300,-2.26e-12,-1.5763e-12,-2.9008e-11,94418,-1.4184e-09,-3.9339e-10,94410,-1.8389e-09,94134\n",
      "Compliance tensors (Mandel) end\n",
      "\n",
      "Nodal positions:\n",
      "0 0.14948 0.41774\n",
      "0.14477 0 0.41774\n",
      "0.14477 0.14948 0\n",
      "0.14477 0.14948 0.41774\n",
      "0.14477 0.14948 1\n",
      "0.14477 1 0.41774\n",
      "1 0.14948 0.41774\n",
      "\n",
      "Bar connectivities:\n",
      "0 3\n",
      "1 3\n",
      "2 3\n",
      "3 4\n",
      "3 5\n",
      "3 6\n",
      "\n",
      "Fundamental edge adjacency\n",
      "3 3\n",
      "3 3\n",
      "3 3\n",
      "\n",
      "Fundamental tesselation vectors\n",
      "1 0 0\n",
      "0 1 0\n",
      "0 0 1\n",
      "\n"
     ]
    }
   ],
   "source": [
    "with Path('./sample_cat.lat').open() as f:\n",
    "    for _ in range(47):\n",
    "        print(f.readline(), end='')"
   ]
  },
  {
   "cell_type": "markdown",
   "metadata": {},
   "source": [
    "## Load Catalogue from file"
   ]
  },
  {
   "cell_type": "code",
   "execution_count": 8,
   "metadata": {},
   "outputs": [
    {
     "name": "stdout",
     "output_type": "stream",
     "text": [
      "Unit cell catalogue with 20 entries\n"
     ]
    }
   ],
   "source": [
    "cat = Catalogue.from_file('./sample_cat.lat', indexing=0) \n",
    "# parameter indexing indicates whether edge adjacency is 0- or 1-indexed\n",
    "print(cat)"
   ]
  },
  {
   "cell_type": "markdown",
   "metadata": {},
   "source": [
    "We can retrieve elements based on index or name:"
   ]
  },
  {
   "cell_type": "code",
   "execution_count": 18,
   "metadata": {},
   "outputs": [
    {
     "name": "stdout",
     "output_type": "stream",
     "text": [
      "{'name': 'cub_Z06.0_E1_p_0.0_-2440574754159344429', 'base_name': 'cub_Z06.0_E1', 'imperfection_level': 0.0, 'imperfection_kind': 'sphere_surf', 'nodal_hash': '-2440574754159344429', 'lattice_constants': [1.0, 1.0, 1.0, 90.0, 90.0, 90.0], 'nodal_positions': [[0.0, 0.14948, 0.41774], [0.14477, 0.0, 0.41774], [0.14477, 0.14948, 0.0], [0.14477, 0.14948, 0.41774], [0.14477, 0.14948, 1.0], [0.14477, 1.0, 0.41774], [1.0, 0.14948, 0.41774]], 'edge_adjacency': [[0, 3], [1, 3], [2, 3], [3, 4], [3, 5], [3, 6]], 'fundamental_edge_adjacency': [[3, 3], [3, 3], [3, 3]], 'fundamental_tesselation_vecs': [[1.0, 0.0, 0.0], [0.0, 1.0, 0.0], [0.0, 0.0, 1.0]], 'compliance_tensors_M': {0.001: array([[ 3.0000e+03, -4.1749e-30,  1.4936e-13,  6.6045e-10,  6.7216e-10,\n",
      "         6.6931e-10],\n",
      "       [-4.1749e-30,  3.0000e+03,  3.3308e-13, -6.3716e-10, -6.6157e-10,\n",
      "        -6.5727e-10],\n",
      "       [ 1.4936e-13,  3.3308e-13,  3.0000e+03, -2.2143e-11,  3.6351e-11,\n",
      "         7.3195e-10],\n",
      "       [ 6.6045e-10, -6.3716e-10, -2.2143e-11,  9.3629e+06, -1.0629e-07,\n",
      "        -1.0552e-07],\n",
      "       [ 6.7216e-10, -6.6157e-10,  3.6351e-11, -1.0629e-07,  9.3622e+06,\n",
      "        -1.5053e-07],\n",
      "       [ 6.6931e-10, -6.5727e-10,  7.3195e-10, -1.0552e-07, -1.5053e-07,\n",
      "         9.3345e+06]]), 0.003: array([[ 1.0000e+03, -1.1145e-13, -1.3165e-12, -1.3952e-10, -2.3571e-10,\n",
      "         9.5711e-10],\n",
      "       [-1.1145e-13,  1.0000e+03,  7.1458e-13,  3.8050e-11,  4.2355e-11,\n",
      "         7.0665e-13],\n",
      "       [-1.3165e-12,  7.1458e-13,  1.0000e+03, -7.2325e-11, -5.1571e-10,\n",
      "         5.1333e-09],\n",
      "       [-1.3952e-10,  3.8050e-11, -7.2325e-11,  1.0423e+06, -3.9740e-08,\n",
      "         3.4728e-07],\n",
      "       [-2.3571e-10,  4.2355e-11, -5.1571e-10, -3.9740e-08,  1.0422e+06,\n",
      "         4.7279e-07],\n",
      "       [ 9.5711e-10,  7.0665e-13,  5.1333e-09,  3.4728e-07,  4.7279e-07,\n",
      "         1.0391e+06]]), 0.01: array([[ 3.0000e+02, -1.0184e-13, -4.3103e-14, -1.0258e-11, -1.0983e-11,\n",
      "        -2.4061e-12],\n",
      "       [-1.0184e-13,  3.0000e+02,  4.1888e-14,  9.1125e-12,  9.2644e-12,\n",
      "         1.1643e-11],\n",
      "       [-4.3103e-14,  4.1888e-14,  3.0000e+02, -2.2600e-12, -1.5763e-12,\n",
      "        -2.9008e-11],\n",
      "       [-1.0258e-11,  9.1125e-12, -2.2600e-12,  9.4418e+04, -1.4184e-09,\n",
      "        -3.9339e-10],\n",
      "       [-1.0983e-11,  9.2644e-12, -1.5763e-12, -1.4184e-09,  9.4410e+04,\n",
      "        -1.8389e-09],\n",
      "       [-2.4061e-12,  1.1643e-11, -2.9008e-11, -3.9339e-10, -1.8389e-09,\n",
      "         9.4134e+04]])}}\n"
     ]
    }
   ],
   "source": [
    "lat_dict = cat[0]\n",
    "lat_dict = cat['cub_Z06.0_E1_p_0.0_-2440574754159344429']\n",
    "print(lat_dict)"
   ]
  },
  {
   "cell_type": "markdown",
   "metadata": {},
   "source": [
    "Slicing of catalogue returns a new catalogue:"
   ]
  },
  {
   "cell_type": "code",
   "execution_count": 14,
   "metadata": {},
   "outputs": [
    {
     "name": "stdout",
     "output_type": "stream",
     "text": [
      "Unit cell catalogue with 2 entries\n"
     ]
    }
   ],
   "source": [
    "print(cat[0:2])"
   ]
  },
  {
   "cell_type": "markdown",
   "metadata": {},
   "source": [
    "We can load just the names from file"
   ]
  },
  {
   "cell_type": "code",
   "execution_count": 20,
   "metadata": {},
   "outputs": [
    {
     "data": {
      "text/plain": [
       "['cub_Z06.0_E1_p_0.0_-2440574754159344429',\n",
       " 'cub_Z03.0_R7_p_0.07_-6234005343687396911',\n",
       " 'cub_Z03.0_R7_p_0.1_2522079316597188426']"
      ]
     },
     "execution_count": 20,
     "metadata": {},
     "output_type": "execute_result"
    }
   ],
   "source": [
    "Catalogue.get_names('sample_cat.lat')[:3]"
   ]
  },
  {
   "cell_type": "markdown",
   "metadata": {},
   "source": [
    "Lattice names have format \n",
    "\n",
    "[symmetry]\\_[connectivity]\\_[code]\\_p\\_[imperfection_level]\\_[nodal_hash]\n",
    "\n",
    "such as\n",
    "\n",
    "cub_Z12.0_E19_p_0.0_9113732828474860344\n",
    "\n",
    "\n",
    "We can use a regular expression filter to load specific lattices"
   ]
  },
  {
   "cell_type": "code",
   "execution_count": 26,
   "metadata": {},
   "outputs": [
    {
     "name": "stdout",
     "output_type": "stream",
     "text": [
      "Unit cell catalogue with 18 entries\n",
      "Unit cell catalogue with 1 entries\n",
      "Unit cell catalogue with 2 entries\n",
      "Unit cell catalogue with 18 entries\n"
     ]
    }
   ],
   "source": [
    "# load just cubic lattices\n",
    "print(Catalogue.from_file('./sample_cat.lat', 0, regex='cub_.*'))\n",
    "# just orthorhombic lattices\n",
    "print(Catalogue.from_file('./sample_cat.lat', 0, regex='ort_.*'))\n",
    "# just lattices with zero imperfections\n",
    "print(Catalogue.from_file('./sample_cat.lat', 0, regex='.*_p_0.0_.*'))\n",
    "# lattices with connectivity less than 5\n",
    "print(Catalogue.from_file('./sample_cat.lat', 0, regex='.*_Z0[3-4].*'))"
   ]
  },
  {
   "cell_type": "markdown",
   "metadata": {},
   "source": [
    "## Create Catalogue from dictionary"
   ]
  },
  {
   "cell_type": "code",
   "execution_count": 16,
   "metadata": {},
   "outputs": [
    {
     "data": {
      "text/plain": [
       "Unit cell catalogue with 1 entries"
      ]
     },
     "execution_count": 16,
     "metadata": {},
     "output_type": "execute_result"
    }
   ],
   "source": [
    "lat_dict = {\n",
    "    'cubic': {\n",
    "        'nodal_positions': [[0, 0, 0], [1, 0, 0], [0, 1, 0], [0, 0, 1]],\n",
    "        'edge_adjacency': [[0,1], [0,2], [0,3]],\n",
    "    }\n",
    "}\n",
    "Catalogue.from_dict(lat_dict)"
   ]
  },
  {
   "cell_type": "markdown",
   "metadata": {},
   "source": [
    "## Save Catalogue to file"
   ]
  },
  {
   "cell_type": "code",
   "execution_count": 17,
   "metadata": {},
   "outputs": [],
   "source": [
    "cat[0:2].to_file('small_cat.lat')"
   ]
  }
 ],
 "metadata": {
  "kernelspec": {
   "display_name": "GLAMMenv",
   "language": "python",
   "name": "python3"
  },
  "language_info": {
   "codemirror_mode": {
    "name": "ipython",
    "version": 3
   },
   "file_extension": ".py",
   "mimetype": "text/x-python",
   "name": "python",
   "nbconvert_exporter": "python",
   "pygments_lexer": "ipython3",
   "version": "3.9.18"
  }
 },
 "nbformat": 4,
 "nbformat_minor": 2
}
